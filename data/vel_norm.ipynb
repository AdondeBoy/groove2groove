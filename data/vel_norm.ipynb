{
 "cells": [
  {
   "cell_type": "markdown",
   "metadata": {},
   "source": [
    "# Velocity normalization\n",
    "\n",
    "We normalize velocities in the Bodhidharma dataset to get rid of a mismatch with respect to the training distribution.\n",
    "\n",
    "The histogram plotting takes a bit long and may be skipped."
   ]
  },
  {
   "cell_type": "code",
   "metadata": {
    "ExecuteTime": {
     "end_time": "2025-04-03T08:54:13.870002Z",
     "start_time": "2025-04-03T08:53:53.534897Z"
    }
   },
   "source": [
    "import itertools\n",
    "import os\n",
    "\n",
    "import matplotlib.pyplot as plt\n",
    "from museflow.io.note_sequence_io import NoteSequenceDB\n",
    "from museflow.note_sequence_utils import filter_sequence\n",
    "import numpy as np\n",
    "import scipy"
   ],
   "outputs": [],
   "execution_count": 1
  },
  {
   "cell_type": "code",
   "metadata": {
    "ExecuteTime": {
     "end_time": "2025-04-03T08:54:13.886026Z",
     "start_time": "2025-04-03T08:54:13.871002Z"
    }
   },
   "source": [
    "DATASET_DIR = 'bodhidharma/final'\n",
    "TRAIN_DB = 'synth/train/final/all.db'"
   ],
   "outputs": [],
   "execution_count": 2
  },
  {
   "cell_type": "markdown",
   "metadata": {},
   "source": [
    "## Compute velocity statistics on training data"
   ]
  },
  {
   "cell_type": "code",
   "metadata": {
    "ExecuteTime": {
     "end_time": "2025-04-03T08:55:33.009609Z",
     "start_time": "2025-04-03T08:54:13.888002Z"
    }
   },
   "source": [
    "velocities_train = []\n",
    "with NoteSequenceDB(TRAIN_DB) as db, db.begin() as txn:\n",
    "    for _, seq in txn.items():\n",
    "        velocities_train.extend(n.velocity for n in seq.notes)"
   ],
   "outputs": [],
   "execution_count": 3
  },
  {
   "cell_type": "code",
   "metadata": {
    "ExecuteTime": {
     "end_time": "2025-04-03T08:55:39.763609Z",
     "start_time": "2025-04-03T08:55:33.012609Z"
    }
   },
   "source": [
    "train_stats = scipy.stats.describe(velocities_train)\n",
    "train_stats"
   ],
   "outputs": [
    {
     "data": {
      "text/plain": [
       "DescribeResult(nobs=71799353, minmax=(1, 127), mean=64.25399574283072, variance=432.9165195560093, skewness=0.19585816884222212, kurtosis=-0.06955028101708605)"
      ]
     },
     "execution_count": 4,
     "metadata": {},
     "output_type": "execute_result"
    }
   ],
   "execution_count": 4
  },
  {
   "cell_type": "code",
   "metadata": {
    "ExecuteTime": {
     "end_time": "2025-04-03T09:00:07.483263Z",
     "start_time": "2025-04-03T08:55:39.764609Z"
    }
   },
   "source": [
    "plt.hist(velocities_train, bins=np.linspace(0, 128, 129))\n",
    "plt.show()"
   ],
   "outputs": [
    {
     "data": {
      "text/plain": [
       "<Figure size 432x288 with 1 Axes>"
      ],
      "image/png": "[encoded data removed]"
     },
     "metadata": {
      "needs_background": "light"
     },
     "output_type": "display_data"
    }
   ],
   "execution_count": 5
  },
  {
   "cell_type": "markdown",
   "metadata": {},
   "source": [
    "## Compute the same statistics on the Bodhidharma dataset"
   ]
  },
  {
   "cell_type": "code",
   "metadata": {
    "ExecuteTime": {
     "end_time": "2025-04-03T09:00:10.825647Z",
     "start_time": "2025-04-03T09:00:07.485264Z"
    }
   },
   "source": [
    "velocities_bodh = []\n",
    "with NoteSequenceDB(os.path.join(DATASET_DIR, 'all.db')) as db, db.begin() as txn:\n",
    "    for _, seq in txn.items():\n",
    "        velocities_bodh.extend(n.velocity for n in seq.notes)"
   ],
   "outputs": [],
   "execution_count": 6
  },
  {
   "cell_type": "code",
   "metadata": {
    "ExecuteTime": {
     "end_time": "2025-04-03T09:00:11.129678Z",
     "start_time": "2025-04-03T09:00:10.826650Z"
    }
   },
   "source": [
    "bodh_stats = scipy.stats.describe(velocities_bodh)\n",
    "bodh_stats"
   ],
   "outputs": [
    {
     "data": {
      "text/plain": [
       "DescribeResult(nobs=3212408, minmax=(1, 127), mean=91.21381063675598, variance=635.5847150767557, skewness=-0.5112946576972355, kurtosis=-0.21023234905790522)"
      ]
     },
     "execution_count": 7,
     "metadata": {},
     "output_type": "execute_result"
    }
   ],
   "execution_count": 7
  },
  {
   "cell_type": "code",
   "metadata": {
    "ExecuteTime": {
     "end_time": "2025-04-03T09:00:22.655679Z",
     "start_time": "2025-04-03T09:00:11.130648Z"
    }
   },
   "source": [
    "plt.hist(velocities_bodh, bins=np.linspace(0, 128, 129))\n",
    "plt.show()"
   ],
   "outputs": [
    {
     "data": {
      "text/plain": [
       "<Figure size 432x288 with 1 Axes>"
      ],
      "image/png": "[encoded data removed]"
     },
     "metadata": {
      "needs_background": "light"
     },
     "output_type": "display_data"
    }
   ],
   "execution_count": 8
  },
  {
   "cell_type": "markdown",
   "metadata": {},
   "source": [
    "## Normalize velocities and check the new statistics"
   ]
  },
  {
   "cell_type": "code",
   "metadata": {
    "ExecuteTime": {
     "end_time": "2025-04-03T09:23:27.909036Z",
     "start_time": "2025-04-03T09:23:27.895038Z"
    }
   },
   "source": [
    "os.makedirs(os.path.join(DATASET_DIR, 'vel_norm_biab'))"
   ],
   "outputs": [],
   "execution_count": 11
  },
  {
   "cell_type": "code",
   "metadata": {
    "ExecuteTime": {
     "end_time": "2025-04-03T09:23:42.005991Z",
     "start_time": "2025-04-03T09:23:30.358557Z"
    }
   },
   "source": [
    "velocities_norm = []\n",
    "with NoteSequenceDB(os.path.join(DATASET_DIR, 'all.db')) as db, db.begin() as txn, \\\n",
    "     NoteSequenceDB(os.path.join(DATASET_DIR, 'vel_norm_biab', 'all.db'), write=True,\n",
    "                    map_size=2 * db.db.info()['map_size']) as db_out, db_out.begin() as txn_out:\n",
    "    for key, seq in txn.items():\n",
    "        seq_velocities = np.array([n.velocity for n in seq.notes])\n",
    "        seq_velocities = seq_velocities - np.mean(seq_velocities)\n",
    "        if np.std(seq_velocities) > 0:\n",
    "            seq_velocities *= np.sqrt(train_stats.variance) / np.std(seq_velocities)\n",
    "        seq_velocities += train_stats.mean\n",
    "        seq_velocities = np.rint(seq_velocities).astype(np.int32)\n",
    "        np.clip(seq_velocities, 1, 127, out=seq_velocities)\n",
    "        for note, velocity in zip(seq.notes, seq_velocities):\n",
    "            note.velocity = velocity\n",
    "        txn_out.put(key, seq)\n",
    "        velocities_norm.extend(seq_velocities)"
   ],
   "outputs": [],
   "execution_count": 12
  },
  {
   "cell_type": "code",
   "metadata": {
    "ExecuteTime": {
     "end_time": "2025-04-03T09:23:54.626957Z",
     "start_time": "2025-04-03T09:23:54.250987Z"
    }
   },
   "source": [
    "scipy.stats.describe(velocities_norm)"
   ],
   "outputs": [
    {
     "data": {
      "text/plain": [
       "DescribeResult(nobs=3212408, minmax=(1, 127), mean=64.28455787683258, variance=391.6655277777258, skewness=-0.3033123206007858, kurtosis=0.2834446453933164)"
      ]
     },
     "execution_count": 13,
     "metadata": {},
     "output_type": "execute_result"
    }
   ],
   "execution_count": 13
  },
  {
   "cell_type": "code",
   "metadata": {
    "ExecuteTime": {
     "end_time": "2025-04-03T09:28:50.083179Z",
     "start_time": "2025-04-03T09:23:55.702694Z"
    }
   },
   "source": [
    "plt.hist(velocities_train, density=True, bins=np.linspace(0, 128, 129), alpha=0.7)\n",
    "plt.hist(velocities_norm, density=True, bins=np.linspace(0, 128, 129), alpha=0.7)\n",
    "plt.show()"
   ],
   "outputs": [
    {
     "data": {
      "text/plain": [
       "<Figure size 432x288 with 1 Axes>"
      ],
      "image/png": "[encoded data removed]"
     },
     "metadata": {
      "needs_background": "light"
     },
     "output_type": "display_data"
    }
   ],
   "execution_count": 14
  },
  {
   "cell_type": "code",
   "metadata": {
    "ExecuteTime": {
     "end_time": "2025-04-03T09:33:38.296977Z",
     "start_time": "2025-04-03T09:28:50.084061Z"
    }
   },
   "source": [
    "plt.hist(velocities_train, density=True, bins=np.linspace(0, 128, 9), alpha=0.7)\n",
    "plt.hist(velocities_norm, density=True, bins=np.linspace(0, 128, 9), alpha=0.7)\n",
    "plt.show()"
   ],
   "outputs": [
    {
     "data": {
      "text/plain": [
       "<Figure size 432x288 with 1 Axes>"
      ],
      "image/png": "[encoded data removed]"
     },
     "metadata": {
      "needs_background": "light"
     },
     "output_type": "display_data"
    }
   ],
   "execution_count": 15
  },
  {
   "cell_type": "markdown",
   "metadata": {},
   "source": [
    "## Filter out drums"
   ]
  },
  {
   "cell_type": "code",
   "metadata": {
    "ExecuteTime": {
     "end_time": "2025-04-03T09:33:49.388191Z",
     "start_time": "2025-04-03T09:33:38.298977Z"
    }
   },
   "source": [
    "with NoteSequenceDB(os.path.join(DATASET_DIR, 'vel_norm_biab', 'all.db')) as db, db.begin() as txn, \\\n",
    "     NoteSequenceDB(os.path.join(DATASET_DIR, 'vel_norm_biab', 'all_except_drums.db'), write=True,\n",
    "                    map_size=2 * db.db.info()['map_size']) as db_out, db_out.begin() as txn_out:\n",
    "    for key, seq in txn.items():\n",
    "        filter_sequence(seq, drums=False)\n",
    "        txn_out.put(key, seq)"
   ],
   "outputs": [],
   "execution_count": 16
  },
  {
   "metadata": {},
   "cell_type": "code",
   "outputs": [],
   "execution_count": null,
   "source": ""
  }
 ],
 "metadata": {
  "kernelspec": {
   "display_name": "Python 3",
   "language": "python",
   "name": "python3"
  },
  "language_info": {
   "codemirror_mode": {
    "name": "ipython",
    "version": 3
   },
   "file_extension": ".py",
   "mimetype": "text/x-python",
   "name": "python",
   "nbconvert_exporter": "python",
   "pygments_lexer": "ipython3",
   "version": "3.6.8"
  }
 },
 "nbformat": 4,
 "nbformat_minor": 4
}
