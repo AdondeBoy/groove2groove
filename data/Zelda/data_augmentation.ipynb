{
 "metadata": {
  "kernelspec": {
   "language": "python",
   "display_name": "Python 3",
   "name": "python3"
  },
  "language_info": {
   "name": "python",
   "version": "3.10.13",
   "mimetype": "text/x-python",
   "codemirror_mode": {
    "name": "ipython",
    "version": 3
   },
   "pygments_lexer": "ipython3",
   "nbconvert_exporter": "python",
   "file_extension": ".py"
  },
  "kaggle": {
   "accelerator": "none",
   "dataSources": [
    {
     "sourceId": 434491,
     "sourceType": "datasetVersion",
     "datasetId": 196294
    }
   ],
   "dockerImageVersionId": 30664,
   "isInternetEnabled": true,
   "language": "python",
   "sourceType": "notebook",
   "isGpuEnabled": false
  },
  "colab": {
   "name": "Augmenting 2 midi files from each",
   "provenance": []
  }
 },
 "nbformat_minor": 0,
 "nbformat": 4,
 "cells": [
  {
   "metadata": {
    "ExecuteTime": {
     "end_time": "2025-04-10T19:06:50.723851Z",
     "start_time": "2025-04-10T19:06:50.630854Z"
    }
   },
   "cell_type": "code",
   "source": [
    "# remove augmented files from MIDI_Files\n",
    "import os\n",
    "import glob\n",
    "\n",
    "files = glob.glob('MIDI_Files/*_modified*.mid')\n",
    "\n",
    "for file in files:\n",
    "    try:\n",
    "        os.remove(file)\n",
    "    except Exception as e:\n",
    "        print(f\"Error removing file {file}: {e}\")"
   ],
   "outputs": [],
   "execution_count": 3
  },
  {
   "metadata": {
    "ExecuteTime": {
     "end_time": "2025-04-10T19:06:10.386703Z",
     "start_time": "2025-04-10T19:05:10.276702Z"
    }
   },
   "cell_type": "code",
   "source": [
    "import pretty_midi\n",
    "\n",
    "def copy_instrument(original_instrument):\n",
    "    new_instrument = pretty_midi.Instrument(program=original_instrument.program)\n",
    "\n",
    "    for note in original_instrument.notes:\n",
    "        new_instrument.notes.append(pretty_midi.Note(\n",
    "            start=note.start,\n",
    "            end=note.end,\n",
    "            pitch=note.pitch,\n",
    "            velocity=note.velocity\n",
    "        ))\n",
    "\n",
    "    return new_instrument\n",
    "\n",
    "def add_imperfection(midi_data, pitch_offset=-4):\n",
    "    # Crear una copia de los datos MIDI\n",
    "    modified_midi_data = pretty_midi.PrettyMIDI()\n",
    "\n",
    "    # Manipular el pitch de las notas\n",
    "    for instrument in midi_data.instruments:\n",
    "        new_instrument = copy_instrument(instrument)\n",
    "\n",
    "        for note in new_instrument.notes:\n",
    "            if int(note.pitch + pitch_offset) < 0 or int(note.pitch + pitch_offset) > 127:\n",
    "                return None\n",
    "\n",
    "            # Aplicar el offset de pitch\n",
    "            note.pitch = int(note.pitch + pitch_offset)\n",
    "\n",
    "        modified_midi_data.instruments.append(new_instrument)\n",
    "\n",
    "    return modified_midi_data\n",
    "\n",
    "def process_dataset(dataset_path):\n",
    "    debug = False\n",
    "    n_files_before = len(os.listdir(dataset_path))\n",
    "    print(\"Number of files before augmentation: \", n_files_before)\n",
    "    \n",
    "    pitch_offset_list = [-16, -12, -8, -4, 4, 8, 12]\n",
    "    for midi_file in os.listdir(dataset_path):\n",
    "        if midi_file.endswith(\".mid\"):\n",
    "            midi_file_path = os.path.join(dataset_path, midi_file)\n",
    "    \n",
    "            # Cargar el archivo MIDI original\n",
    "            original_midi_data = pretty_midi.PrettyMIDI(midi_file_path)\n",
    "    \n",
    "            # Iterar sobre los valores de pitch_offset\n",
    "            for i, pitch_offset in enumerate(pitch_offset_list, start=1):\n",
    "                # Modificar los datos MIDI\n",
    "                modified_midi_data = add_imperfection(original_midi_data, pitch_offset=pitch_offset)\n",
    "    \n",
    "                # Si el resultado es None, omitir la escritura del archivo\n",
    "                if modified_midi_data is None:\n",
    "                    if debug:\n",
    "                        print(f\"Skipping {midi_file} modification_{i} due to invalid pitch after modification.\")\n",
    "                    continue\n",
    "    \n",
    "                # Guardar el archivo MIDI modificado\n",
    "                modified_output_path = os.path.join(dataset_path, f\"{midi_file.replace('.mid', f'_modified{i}.mid')}\")\n",
    "                try:\n",
    "                    modified_midi_data.write(modified_output_path)\n",
    "                except ValueError as e:\n",
    "                    print(f\"Error writing modified file {i} for {midi_file}: {e}\")\n",
    "            \n",
    "    n_files_after = len(os.listdir(dataset_path))\n",
    "    print(\"Number of files after augmentation: \", n_files_after)\n",
    "    print(\"Number of failures during augmentation: \", n_files_after - (n_files_before * (len(pitch_offset_list)+1)))\n",
    "        \n",
    "def main():\n",
    "    # Specify the dataset directory\n",
    "    dataset_path = \"MIDI_Files/\"\n",
    "\n",
    "    # Process the dataset\n",
    "    process_dataset(dataset_path)\n",
    "\n",
    "if __name__ == \"__main__\":\n",
    "    main()\n"
   ],
   "outputs": [
    {
     "name": "stdout",
     "output_type": "stream",
     "text": [
      "Number of files before augmentation:  61\n"
     ]
    },
    {
     "name": "stderr",
     "output_type": "stream",
     "text": [
      "c:\\users\\santi\\documents\\github\\groove2groove\\venv\\lib\\site-packages\\pretty_midi\\pretty_midi.py:100: RuntimeWarning: Tempo, Key or Time signature change events found on non-zero tracks.  This is not a valid type 0 or type 1 MIDI file.  Tempo, Key or Time Signature may be wrong.\n",
      "  RuntimeWarning)\n"
     ]
    },
    {
     "name": "stdout",
     "output_type": "stream",
     "text": [
      "Number of files after augmentation:  488\n",
      "Number of failures during augmentation:  0\n"
     ]
    }
   ],
   "execution_count": 2
  },
  {
   "metadata": {
    "ExecuteTime": {
     "end_time": "2025-04-10T19:06:10.402701Z",
     "start_time": "2025-04-10T19:06:10.390703Z"
    }
   },
   "cell_type": "code",
   "source": "",
   "outputs": [],
   "execution_count": 2
  }
 ]
}
